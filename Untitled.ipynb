{
 "cells": [
  {
   "cell_type": "code",
   "execution_count": 1,
   "id": "de7faa9a-dd52-4e2d-8242-2bd1d48bcce7",
   "metadata": {},
   "outputs": [],
   "source": [
    "import fitz"
   ]
  },
  {
   "cell_type": "code",
   "execution_count": 2,
   "id": "73244dd9-02b1-48e5-8414-d048b94d319e",
   "metadata": {},
   "outputs": [],
   "source": [
    "FILENAME = 'testing.pdf'\n",
    "doc = fitz.open(FILENAME)"
   ]
  },
  {
   "cell_type": "code",
   "execution_count": 27,
   "id": "3ac6d820-0b44-4b1e-84d7-df23e965ef28",
   "metadata": {},
   "outputs": [],
   "source": [
    "for page in doc:\n",
    "    page.wrap_contents()\n",
    "    \n",
    "    areas = page.search_for('Reporter Contact Information')\n",
    "    [page.add_redact_annot(area, text = \"redacted\") for area in areas]\n",
    "    page.apply_redactions()\n",
    "doc.save('boxing.pdf')\n",
    "    "
   ]
  },
  {
   "cell_type": "code",
   "execution_count": 13,
   "id": "55ded8dd-fd2d-4196-9b58-a01b336661ca",
   "metadata": {},
   "outputs": [
    {
     "name": "stdout",
     "output_type": "stream",
     "text": [
      "[]\n"
     ]
    }
   ],
   "source": [
    "print(data)"
   ]
  },
  {
   "cell_type": "code",
   "execution_count": 28,
   "id": "284b5020-d2be-4147-9cfc-4f8afe1554e6",
   "metadata": {},
   "outputs": [
    {
     "ename": "NameError",
     "evalue": "name 'self' is not defined",
     "output_type": "error",
     "traceback": [
      "\u001b[0;31m---------------------------------------------------------------------------\u001b[0m",
      "\u001b[0;31mNameError\u001b[0m                                 Traceback (most recent call last)",
      "\u001b[0;32m/tmp/ipykernel_26620/3684640943.py\u001b[0m in \u001b[0;36m<module>\u001b[0;34m\u001b[0m\n\u001b[0;32m----> 1\u001b[0;31m \u001b[0mdoc\u001b[0m \u001b[0;34m=\u001b[0m \u001b[0mfitz\u001b[0m\u001b[0;34m.\u001b[0m\u001b[0mopen\u001b[0m\u001b[0;34m(\u001b[0m\u001b[0mself\u001b[0m\u001b[0;34m.\u001b[0m\u001b[0mpath\u001b[0m\u001b[0;34m)\u001b[0m\u001b[0;34m\u001b[0m\u001b[0;34m\u001b[0m\u001b[0m\n\u001b[0m\u001b[1;32m      2\u001b[0m \u001b[0;34m\u001b[0m\u001b[0m\n\u001b[1;32m      3\u001b[0m \u001b[0;31m# iterating through pages\u001b[0m\u001b[0;34m\u001b[0m\u001b[0;34m\u001b[0m\u001b[0;34m\u001b[0m\u001b[0m\n\u001b[1;32m      4\u001b[0m \u001b[0;32mfor\u001b[0m \u001b[0mpage\u001b[0m \u001b[0;32min\u001b[0m \u001b[0mdoc\u001b[0m\u001b[0;34m:\u001b[0m\u001b[0;34m\u001b[0m\u001b[0;34m\u001b[0m\u001b[0m\n\u001b[1;32m      5\u001b[0m \u001b[0;34m\u001b[0m\u001b[0m\n",
      "\u001b[0;31mNameError\u001b[0m: name 'self' is not defined"
     ]
    }
   ],
   "source": [
    "doc = fitz.open(self.path)\n",
    "\n",
    "# iterating through pages\n",
    "for page in doc:\n",
    "\n",
    "    # _wrapContents is needed for fixing\n",
    "    # alignment issues with rect boxes in some\n",
    "    # cases where there is alignment issue\n",
    "    page.wrap_contents()\n",
    "\n",
    "    # getting the rect boxes which consists the matching email regex\n",
    "    sensitive = ['Reporter Contact Information']\n",
    "    for data in sensitive:\n",
    "        areas = page.search_for(data)\n",
    "\n",
    "        # drawing outline over sensitive datas\n",
    "        # [page.add_redact_annot(area, fill = (0, 0, 0)) for area in areas]\n",
    "        [page.add_redact_annot(area, text='REDACTED_DATA') for area in areas]\n",
    "\n",
    "    # applying the redaction\n",
    "    page.apply_redactions()\n",
    "\n",
    "# saving it to a new pdf\n",
    "doc.save('replaced2.pdf')\n",
    "print(\"Successfully redacted\")"
   ]
  },
  {
   "cell_type": "code",
   "execution_count": null,
   "id": "ce24f9e4-4259-44cd-a2f6-0323726af98a",
   "metadata": {},
   "outputs": [],
   "source": []
  }
 ],
 "metadata": {
  "kernelspec": {
   "display_name": "Python 3 (ipykernel)",
   "language": "python",
   "name": "python3"
  },
  "language_info": {
   "codemirror_mode": {
    "name": "ipython",
    "version": 3
   },
   "file_extension": ".py",
   "mimetype": "text/x-python",
   "name": "python",
   "nbconvert_exporter": "python",
   "pygments_lexer": "ipython3",
   "version": "3.8.10"
  }
 },
 "nbformat": 4,
 "nbformat_minor": 5
}
